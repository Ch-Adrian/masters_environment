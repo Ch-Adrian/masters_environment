{
 "cells": [
  {
   "cell_type": "code",
   "execution_count": null,
   "id": "31f78b5f",
   "metadata": {},
   "outputs": [
    {
     "name": "stdout",
     "output_type": "stream",
     "text": [
      "('dynamic-connectivity-incremental-1.3.0.jar', '0', 'Email-EuAll.txt', '420045', '240')\n",
      "Starting background command...\n",
      "Running foreground command...\n",
      "Clean-up...\u001b[32mDONE\u001b[0m\n",
      "Cleaning topics...Error while executing topic command : Topic 'input' does not exist as expected\n"
     ]
    },
    {
     "name": "stderr",
     "output_type": "stream",
     "text": [
      "[2025-08-31 12:25:58,316] ERROR java.lang.IllegalArgumentException: Topic 'input' does not exist as expected\n",
      "\tat kafka.admin.TopicCommand$.kafka$admin$TopicCommand$$ensureTopicExists(TopicCommand.scala:401)\n",
      "\tat kafka.admin.TopicCommand$TopicService.deleteTopic(TopicCommand.scala:361)\n",
      "\tat kafka.admin.TopicCommand$.main(TopicCommand.scala:63)\n",
      "\tat kafka.admin.TopicCommand.main(TopicCommand.scala)\n",
      " (kafka.admin.TopicCommand$)\n"
     ]
    },
    {
     "name": "stdout",
     "output_type": "stream",
     "text": [
      "Error while executing topic command : Topic 'output' does not exist as expected\n"
     ]
    },
    {
     "name": "stderr",
     "output_type": "stream",
     "text": [
      "[2025-08-31 12:26:00,127] ERROR java.lang.IllegalArgumentException: Topic 'output' does not exist as expected\n",
      "\tat kafka.admin.TopicCommand$.kafka$admin$TopicCommand$$ensureTopicExists(TopicCommand.scala:401)\n",
      "\tat kafka.admin.TopicCommand$TopicService.deleteTopic(TopicCommand.scala:361)\n",
      "\tat kafka.admin.TopicCommand$.main(TopicCommand.scala:63)\n",
      "\tat kafka.admin.TopicCommand.main(TopicCommand.scala)\n",
      " (kafka.admin.TopicCommand$)\n"
     ]
    },
    {
     "name": "stdout",
     "output_type": "stream",
     "text": [
      "Error while executing topic command : Topic 'metrics' does not exist as expected\n"
     ]
    },
    {
     "name": "stderr",
     "output_type": "stream",
     "text": [
      "[2025-08-31 12:26:01,893] ERROR java.lang.IllegalArgumentException: Topic 'metrics' does not exist as expected\n",
      "\tat kafka.admin.TopicCommand$.kafka$admin$TopicCommand$$ensureTopicExists(TopicCommand.scala:401)\n",
      "\tat kafka.admin.TopicCommand$TopicService.deleteTopic(TopicCommand.scala:361)\n",
      "\tat kafka.admin.TopicCommand$.main(TopicCommand.scala:63)\n",
      "\tat kafka.admin.TopicCommand.main(TopicCommand.scala)\n",
      " (kafka.admin.TopicCommand$)\n"
     ]
    },
    {
     "name": "stdout",
     "output_type": "stream",
     "text": [
      "\u001b[32mDONE\u001b[0m\n",
      "Sleeping..."
     ]
    }
   ],
   "source": [
    "import subprocess\n",
    "import time\n",
    "import signal\n",
    "from kafka import KafkaConsumer, TopicPartition\n",
    "import re\n",
    "\n",
    "commands = {\n",
    "    \"web-NotreDame.txt\": {\n",
    "        \"dynamic-connectivity-ett-1.3.0.jar\": [0, 1, 2],\n",
    "        \"dynamic-connectivity-lct-1.3.0.jar\": [0, 1, 2],\n",
    "        \"dynamic-connectivity-incremental-1.3.0.jar\": [0],\n",
    "        \"dynamic-mst-ett-decremental-1.3.0.jar\": [1],\n",
    "        \"dynamic-sssp-decremental-1.3.0.jar\": [1],\n",
    "    },\n",
    "    \"Email-EuAll.txt\": {\n",
    "        \"dynamic-connectivity-ett-1.3.0.jar\": [0, 1, 2],\n",
    "        \"dynamic-connectivity-lct-1.3.0.jar\": [0, 1, 2],\n",
    "        \"dynamic-connectivity-incremental-1.3.0.jar\": [0],\n",
    "        \"dynamic-mst-ett-decremental-1.3.0.jar\": [1],\n",
    "        \"dynamic-sssp-decremental-1.3.0.jar\": [1],\n",
    "    },\n",
    "    \"facebook_combined.txt\": {\n",
    "        \"dynamic-connectivity-ett-1.3.0.jar\": [0, 1, 2],\n",
    "        \"dynamic-connectivity-lct-1.3.0.jar\": [0, 1, 2],\n",
    "        \"dynamic-connectivity-incremental-1.3.0.jar\": [0],\n",
    "        \"dynamic-mst-ett-decremental-1.3.0.jar\": [1],\n",
    "        \"dynamic-sssp-decremental-1.3.0.jar\": [1],\n",
    "    }\n",
    "}\n",
    "\n",
    "data_len = {\n",
    "    \"web-NotreDame.txt\": 1497134,\n",
    "    \"Email-EuAll.txt\": 420045,\n",
    "    \"facebook_combined.txt\": 88234\n",
    "}\n",
    "\n",
    "time_limits = {\n",
    "    \"web-NotreDame.txt\": 480,\n",
    "    \"Email-EuAll.txt\": 240,\n",
    "    \"facebook_combined.txt\": 240\n",
    "}\n",
    "\n",
    "def get_flink_jobid(log_path=\"../logs/runner.log\"):\n",
    "    with open(log_path, \"r\") as f:\n",
    "        content = f.read()\n",
    "    match = re.search(r\"JobID\\s+([a-fA-F0-9]+)\", content)\n",
    "    if match:\n",
    "        return match.group(1)\n",
    "    return None\n",
    "\n",
    "def generate_commands(nr=-1):\n",
    "    cmds = []\n",
    "    for data_file, algos in commands.items():\n",
    "        for algo, modes in algos.items():\n",
    "            for mode in modes:\n",
    "                cmds.append((algo, str(mode), data_file, str(data_len[data_file]), str(time_limits[data_file])))\n",
    "    return cmds if nr == -1 else cmds[nr]\n",
    "\n",
    "def get_message_count(broker='localhost:19092', topic='metrics'):\n",
    "    consumer = KafkaConsumer(bootstrap_servers=broker)\n",
    "    partitions = consumer.partitions_for_topic(topic)\n",
    "    if not partitions:\n",
    "        return 0\n",
    "\n",
    "    total = 0\n",
    "    for p in partitions:\n",
    "        tp = TopicPartition(topic, p)\n",
    "        consumer.assign([tp])\n",
    "        consumer.seek_to_beginning(tp)\n",
    "        start = consumer.position(tp)\n",
    "        consumer.seek_to_end(tp)\n",
    "        end = consumer.position(tp)\n",
    "        total += end - start\n",
    "    consumer.close()\n",
    "    return total\n",
    "\n",
    "cmd = generate_commands(15)\n",
    "background_cmd = [\"python3\", \"trackMemInDocker.py\", cmd[0], cmd[1], cmd[2]]\n",
    "foreground_cmd = [\"bash\", \"test_algorithm.sh\", cmd[0], cmd[1], cmd[3], cmd[2], cmd[4]]\n",
    "flink_cmd = [\"bash\", \"run_job.sh\", cmd[0], cmd[1], cmd[3]]\n",
    "stop_flink_job = [\"bash\", \"stop_job.sh\"]\n",
    "foreground_cmd2 = [\"bash\", \"end_test_algorithm.sh\", cmd[0], cmd[1], cmd[3], cmd[2], cmd[4]]\n",
    "\n",
    "def main():\n",
    "    # Start the background process\n",
    "    print(\"Starting background command...\")\n",
    "    bg_process = subprocess.Popen(background_cmd)\n",
    "\n",
    "    try:\n",
    "        # Run the foreground command and wait for it to finish\n",
    "        print(\"Running foreground command...\")\n",
    "        subprocess.run(foreground_cmd, check=True)\n",
    "        with open(\"../logs/runner.log\", \"a\") as log_file:\n",
    "            flink_process = subprocess.Popen(flink_cmd, stdout=log_file, stderr=subprocess.STDOUT)\n",
    "        amt_of_entries = 0\n",
    "        while amt_of_entries < int(cmd[4]):\n",
    "            time.sleep(10)\n",
    "            amt_of_entries = get_message_count()\n",
    "            print(f\"Current amount of entries in Kafka topic 'metrics': {amt_of_entries}\")\n",
    "\n",
    "        job_id = get_flink_jobid()\n",
    "        stop_flink_job.append(job_id)\n",
    "\n",
    "        print(\"Stopping Flink job...\")\n",
    "        subprocess.run(stop_flink_job, check=True)\n",
    "        print(job_id)\n",
    "        flink_process.terminate()\n",
    "        flink_process.wait()\n",
    "        print(\"Flink job completed.\")\n",
    "\n",
    "        subprocess.run(foreground_cmd2, check=True)\n",
    "\n",
    "    finally:\n",
    "        # Terminate the background process\n",
    "        print(\"Terminating background command...\")\n",
    "        bg_process.send_signal(signal.SIGINT)\n",
    "        # bg_process.terminate()\n",
    "        bg_process.wait()\n",
    "        print(\"Background command terminated.\")\n",
    "\n",
    "    print(\"Foreground command completed.\")\n",
    "\n",
    "if __name__ == \"__main__\":\n",
    "    print(cmd)\n",
    "    main()"
   ]
  }
 ],
 "metadata": {
  "kernelspec": {
   "display_name": "um-labs",
   "language": "python",
   "name": "python3"
  },
  "language_info": {
   "codemirror_mode": {
    "name": "ipython",
    "version": 3
   },
   "file_extension": ".py",
   "mimetype": "text/x-python",
   "name": "python",
   "nbconvert_exporter": "python",
   "pygments_lexer": "ipython3",
   "version": "3.12.2"
  }
 },
 "nbformat": 4,
 "nbformat_minor": 5
}
